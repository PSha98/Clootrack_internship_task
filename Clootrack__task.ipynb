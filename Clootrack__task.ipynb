{
 "cells": [
  {
   "cell_type": "code",
   "execution_count": 41,
   "id": "596f808d",
   "metadata": {},
   "outputs": [],
   "source": [
    "import numpy as np\n",
    "import pandas as pd\n",
    "import re\n",
    "import nltk\n",
    "import spacy\n",
    "import string"
   ]
  },
  {
   "cell_type": "code",
   "execution_count": 42,
   "id": "c1a61689",
   "metadata": {},
   "outputs": [],
   "source": [
    "from warnings import filterwarnings\n",
    "import matplotlib.pyplot as plt\n",
    "import numpy as np\n",
    "import pandas as pd\n",
    "from PIL import Image\n",
    "from nltk.corpus import stopwords\n",
    "from nltk.sentiment import SentimentIntensityAnalyzer\n",
    "from sklearn.ensemble import RandomForestClassifier\n",
    "from sklearn.linear_model import LogisticRegression\n",
    "from sklearn.model_selection import cross_val_score, GridSearchCV, cross_validate\n",
    "from sklearn.preprocessing import LabelEncoder\n",
    "from textblob import Word, TextBlob\n",
    "from wordcloud import WordCloud"
   ]
  },
  {
   "cell_type": "code",
   "execution_count": 43,
   "id": "462bb1d2",
   "metadata": {},
   "outputs": [],
   "source": [
    "df = pd.read_excel(r'C:\\Users\\Praveen Shahani\\Downloads\\Copy of Data Analyst - Test Data.xlsx')"
   ]
  },
  {
   "cell_type": "code",
   "execution_count": 44,
   "id": "f6c2d355",
   "metadata": {},
   "outputs": [
    {
     "name": "stdout",
     "output_type": "stream",
     "text": [
      "<class 'pandas.core.frame.DataFrame'>\n",
      "RangeIndex: 6448 entries, 0 to 6447\n",
      "Data columns (total 4 columns):\n",
      " #   Column      Non-Null Count  Dtype         \n",
      "---  ------      --------------  -----         \n",
      " 0   Review      6393 non-null   object        \n",
      " 1   date        6448 non-null   datetime64[ns]\n",
      " 2   Location    1711 non-null   object        \n",
      " 3   Unnamed: 3  0 non-null      float64       \n",
      "dtypes: datetime64[ns](1), float64(1), object(2)\n",
      "memory usage: 201.6+ KB\n"
     ]
    }
   ],
   "source": [
    "df.info()"
   ]
  },
  {
   "cell_type": "code",
   "execution_count": 45,
   "id": "2de68a7e",
   "metadata": {},
   "outputs": [
    {
     "data": {
      "text/plain": [
       "(6448, 4)"
      ]
     },
     "execution_count": 45,
     "metadata": {},
     "output_type": "execute_result"
    }
   ],
   "source": [
    "df.shape"
   ]
  },
  {
   "cell_type": "code",
   "execution_count": 46,
   "id": "9909dfed",
   "metadata": {},
   "outputs": [
    {
     "name": "stderr",
     "output_type": "stream",
     "text": [
      "C:\\Users\\Praveen Shahani\\AppData\\Local\\Temp\\ipykernel_16280\\1167260919.py:1: FutureWarning: The default value of regex will change from True to False in a future version.\n",
      "  df['Review'] = df['Review'].str.replace('[^\\w\\s]', '')\n",
      "C:\\Users\\Praveen Shahani\\AppData\\Local\\Temp\\ipykernel_16280\\1167260919.py:2: FutureWarning: The default value of regex will change from True to False in a future version.\n",
      "  df['Review'] = df['Review'].str.replace('\\d', '')\n"
     ]
    }
   ],
   "source": [
    "df['Review'] = df['Review'].str.replace('[^\\w\\s]', '')\n",
    "df['Review'] = df['Review'].str.replace('\\d', '')"
   ]
  },
  {
   "cell_type": "code",
   "execution_count": 47,
   "id": "53784d08",
   "metadata": {},
   "outputs": [],
   "source": [
    "sw = stopwords.words('english')\n",
    "df['Review'] = df['Review'].apply(lambda x: \" \".join(x for x in str(x).split() if x not in sw))"
   ]
  },
  {
   "cell_type": "code",
   "execution_count": 48,
   "id": "2543385f",
   "metadata": {},
   "outputs": [],
   "source": [
    "drops = pd.Series(' '.join(df['Review']).split()).value_counts()[-250:]\n",
    "df['Review'] = df['Review'].apply(lambda x: \" \".join(x for x in x.split() if x not in drops))"
   ]
  },
  {
   "cell_type": "code",
   "execution_count": 49,
   "id": "69cef6c5",
   "metadata": {},
   "outputs": [
    {
     "data": {
      "text/plain": [
       "0    [I, impressed, resort, Great, staff, main, res...\n",
       "1    [The, rooms, nice, outside, needs, work, also,...\n",
       "2    [Great, location, I, stayed, hotel, last, thre...\n",
       "3    [The, hotel, adequate, stay, The, strips, bath...\n",
       "4    [Great, location, room, large, spacious, Parki...\n",
       "Name: Review, dtype: object"
      ]
     },
     "execution_count": 49,
     "metadata": {},
     "output_type": "execute_result"
    }
   ],
   "source": [
    "df[\"Review\"].apply(lambda x: TextBlob(x).words).head()"
   ]
  },
  {
   "cell_type": "code",
   "execution_count": 50,
   "id": "fba357e1",
   "metadata": {},
   "outputs": [
    {
     "name": "stderr",
     "output_type": "stream",
     "text": [
      "[nltk_data] Downloading package wordnet to C:\\Users\\Praveen\n",
      "[nltk_data]     Shahani\\AppData\\Roaming\\nltk_data...\n",
      "[nltk_data]   Package wordnet is already up-to-date!\n"
     ]
    },
    {
     "data": {
      "text/plain": [
       "True"
      ]
     },
     "execution_count": 50,
     "metadata": {},
     "output_type": "execute_result"
    }
   ],
   "source": [
    "import nltk\n",
    "nltk.download('wordnet')  "
   ]
  },
  {
   "cell_type": "code",
   "execution_count": 51,
   "id": "2b02baaf",
   "metadata": {},
   "outputs": [],
   "source": [
    "df['Review'] = df['Review'].apply(lambda x: \" \".join([Word(word).lemmatize() for word in x.split()]))"
   ]
  },
  {
   "cell_type": "code",
   "execution_count": 52,
   "id": "c649ea21",
   "metadata": {},
   "outputs": [
    {
     "data": {
      "text/plain": [
       "0    I impressed resort Great staff main resort poo...\n",
       "1    The room nice outside need work also free brea...\n",
       "2    Great location I stayed hotel last three trip ...\n",
       "3    The hotel adequate stay The strip bathtub usel...\n",
       "4    Great location room large spacious Parking eas...\n",
       "Name: Review, dtype: object"
      ]
     },
     "execution_count": 52,
     "metadata": {},
     "output_type": "execute_result"
    }
   ],
   "source": [
    "df[\"Review\"].head()"
   ]
  },
  {
   "cell_type": "code",
   "execution_count": 53,
   "id": "188a13d0",
   "metadata": {},
   "outputs": [],
   "source": [
    "tf = df[\"Review\"].apply(lambda x: pd.value_counts(x.split(\" \"))).sum(axis=0).reset_index()"
   ]
  },
  {
   "cell_type": "code",
   "execution_count": 54,
   "id": "a31311ec",
   "metadata": {},
   "outputs": [
    {
     "data": {
      "text/html": [
       "<div>\n",
       "<style scoped>\n",
       "    .dataframe tbody tr th:only-of-type {\n",
       "        vertical-align: middle;\n",
       "    }\n",
       "\n",
       "    .dataframe tbody tr th {\n",
       "        vertical-align: top;\n",
       "    }\n",
       "\n",
       "    .dataframe thead th {\n",
       "        text-align: right;\n",
       "    }\n",
       "</style>\n",
       "<table border=\"1\" class=\"dataframe\">\n",
       "  <thead>\n",
       "    <tr style=\"text-align: right;\">\n",
       "      <th></th>\n",
       "      <th>words</th>\n",
       "      <th>tf</th>\n",
       "    </tr>\n",
       "  </thead>\n",
       "  <tbody>\n",
       "    <tr>\n",
       "      <th>0</th>\n",
       "      <td>staff</td>\n",
       "      <td>1479.0</td>\n",
       "    </tr>\n",
       "    <tr>\n",
       "      <th>1</th>\n",
       "      <td>resort</td>\n",
       "      <td>399.0</td>\n",
       "    </tr>\n",
       "    <tr>\n",
       "      <th>2</th>\n",
       "      <td>Read</td>\n",
       "      <td>10612.0</td>\n",
       "    </tr>\n",
       "    <tr>\n",
       "      <th>3</th>\n",
       "      <td>reasonable</td>\n",
       "      <td>44.0</td>\n",
       "    </tr>\n",
       "    <tr>\n",
       "      <th>4</th>\n",
       "      <td>bar</td>\n",
       "      <td>186.0</td>\n",
       "    </tr>\n",
       "  </tbody>\n",
       "</table>\n",
       "</div>"
      ],
      "text/plain": [
       "        words       tf\n",
       "0       staff   1479.0\n",
       "1      resort    399.0\n",
       "2        Read  10612.0\n",
       "3  reasonable     44.0\n",
       "4         bar    186.0"
      ]
     },
     "execution_count": 54,
     "metadata": {},
     "output_type": "execute_result"
    }
   ],
   "source": [
    "tf.columns = [\"words\", \"tf\"]\n",
    "tf.head()"
   ]
  },
  {
   "cell_type": "code",
   "execution_count": 55,
   "id": "fdabf753",
   "metadata": {},
   "outputs": [
    {
     "data": {
      "text/plain": [
       "(14711, 2)"
      ]
     },
     "execution_count": 55,
     "metadata": {},
     "output_type": "execute_result"
    }
   ],
   "source": [
    "tf.shape"
   ]
  },
  {
   "cell_type": "code",
   "execution_count": 56,
   "id": "05920aa7",
   "metadata": {},
   "outputs": [
    {
     "data": {
      "text/plain": [
       "14711"
      ]
     },
     "execution_count": 56,
     "metadata": {},
     "output_type": "execute_result"
    }
   ],
   "source": [
    "tf[\"words\"].nunique()"
   ]
  },
  {
   "cell_type": "code",
   "execution_count": 57,
   "id": "fc9012ab",
   "metadata": {},
   "outputs": [
    {
     "data": {
      "text/plain": [
       "count    14711.000000\n",
       "mean        11.351914\n",
       "std        121.970192\n",
       "min          1.000000\n",
       "5%           1.000000\n",
       "10%          1.000000\n",
       "25%          1.000000\n",
       "50%          1.000000\n",
       "75%          3.000000\n",
       "80%          5.000000\n",
       "90%         13.000000\n",
       "95%         33.000000\n",
       "99%        164.000000\n",
       "max      10612.000000\n",
       "Name: tf, dtype: float64"
      ]
     },
     "execution_count": 57,
     "metadata": {},
     "output_type": "execute_result"
    }
   ],
   "source": [
    "tf[\"tf\"].describe([0.05, 0.10, 0.25, 0.50, 0.75, 0.80, 0.90, 0.95, 0.99]).T"
   ]
  },
  {
   "cell_type": "code",
   "execution_count": 58,
   "id": "79ebc8da",
   "metadata": {},
   "outputs": [
    {
     "data": {
      "text/html": [
       "<div>\n",
       "<style scoped>\n",
       "    .dataframe tbody tr th:only-of-type {\n",
       "        vertical-align: middle;\n",
       "    }\n",
       "\n",
       "    .dataframe tbody tr th {\n",
       "        vertical-align: top;\n",
       "    }\n",
       "\n",
       "    .dataframe thead th {\n",
       "        text-align: right;\n",
       "    }\n",
       "</style>\n",
       "<table border=\"1\" class=\"dataframe\">\n",
       "  <thead>\n",
       "    <tr style=\"text-align: right;\">\n",
       "      <th></th>\n",
       "      <th>words</th>\n",
       "      <th>tf</th>\n",
       "    </tr>\n",
       "  </thead>\n",
       "  <tbody>\n",
       "    <tr>\n",
       "      <th>2</th>\n",
       "      <td>Read</td>\n",
       "      <td>10612.0</td>\n",
       "    </tr>\n",
       "    <tr>\n",
       "      <th>9</th>\n",
       "      <td>le</td>\n",
       "      <td>5409.0</td>\n",
       "    </tr>\n",
       "    <tr>\n",
       "      <th>28</th>\n",
       "      <td>room</td>\n",
       "      <td>4099.0</td>\n",
       "    </tr>\n",
       "    <tr>\n",
       "      <th>11</th>\n",
       "      <td>I</td>\n",
       "      <td>3527.0</td>\n",
       "    </tr>\n",
       "    <tr>\n",
       "      <th>21</th>\n",
       "      <td>The</td>\n",
       "      <td>3302.0</td>\n",
       "    </tr>\n",
       "    <tr>\n",
       "      <th>29</th>\n",
       "      <td>hotel</td>\n",
       "      <td>2731.0</td>\n",
       "    </tr>\n",
       "    <tr>\n",
       "      <th>0</th>\n",
       "      <td>staff</td>\n",
       "      <td>1479.0</td>\n",
       "    </tr>\n",
       "    <tr>\n",
       "      <th>41</th>\n",
       "      <td>stay</td>\n",
       "      <td>1301.0</td>\n",
       "    </tr>\n",
       "    <tr>\n",
       "      <th>128</th>\n",
       "      <td>clean</td>\n",
       "      <td>1222.0</td>\n",
       "    </tr>\n",
       "    <tr>\n",
       "      <th>7</th>\n",
       "      <td>location</td>\n",
       "      <td>1199.0</td>\n",
       "    </tr>\n",
       "    <tr>\n",
       "      <th>14</th>\n",
       "      <td>great</td>\n",
       "      <td>1102.0</td>\n",
       "    </tr>\n",
       "    <tr>\n",
       "      <th>13</th>\n",
       "      <td>We</td>\n",
       "      <td>1095.0</td>\n",
       "    </tr>\n",
       "    <tr>\n",
       "      <th>17</th>\n",
       "      <td>nice</td>\n",
       "      <td>1013.0</td>\n",
       "    </tr>\n",
       "    <tr>\n",
       "      <th>44</th>\n",
       "      <td>time</td>\n",
       "      <td>789.0</td>\n",
       "    </tr>\n",
       "    <tr>\n",
       "      <th>66</th>\n",
       "      <td>good</td>\n",
       "      <td>787.0</td>\n",
       "    </tr>\n",
       "    <tr>\n",
       "      <th>423</th>\n",
       "      <td>night</td>\n",
       "      <td>773.0</td>\n",
       "    </tr>\n",
       "    <tr>\n",
       "      <th>177</th>\n",
       "      <td>bed</td>\n",
       "      <td>766.0</td>\n",
       "    </tr>\n",
       "    <tr>\n",
       "      <th>69</th>\n",
       "      <td>friendly</td>\n",
       "      <td>721.0</td>\n",
       "    </tr>\n",
       "    <tr>\n",
       "      <th>127</th>\n",
       "      <td>service</td>\n",
       "      <td>651.0</td>\n",
       "    </tr>\n",
       "    <tr>\n",
       "      <th>23</th>\n",
       "      <td>would</td>\n",
       "      <td>628.0</td>\n",
       "    </tr>\n",
       "  </tbody>\n",
       "</table>\n",
       "</div>"
      ],
      "text/plain": [
       "        words       tf\n",
       "2        Read  10612.0\n",
       "9          le   5409.0\n",
       "28       room   4099.0\n",
       "11          I   3527.0\n",
       "21        The   3302.0\n",
       "29      hotel   2731.0\n",
       "0       staff   1479.0\n",
       "41       stay   1301.0\n",
       "128     clean   1222.0\n",
       "7    location   1199.0\n",
       "14      great   1102.0\n",
       "13         We   1095.0\n",
       "17       nice   1013.0\n",
       "44       time    789.0\n",
       "66       good    787.0\n",
       "423     night    773.0\n",
       "177       bed    766.0\n",
       "69   friendly    721.0\n",
       "127   service    651.0\n",
       "23      would    628.0"
      ]
     },
     "execution_count": 58,
     "metadata": {},
     "output_type": "execute_result"
    }
   ],
   "source": [
    "tf.sort_values(\"tf\", ascending = False).head(20)"
   ]
  },
  {
   "cell_type": "code",
   "execution_count": 59,
   "id": "5ae9a3b3",
   "metadata": {},
   "outputs": [
    {
     "data": {
      "text/plain": [
       "{'neg': 0.0, 'neu': 0.417, 'pos': 0.583, 'compound': 0.4215}"
      ]
     },
     "execution_count": 59,
     "metadata": {},
     "output_type": "execute_result"
    }
   ],
   "source": [
    "sia = SentimentIntensityAnalyzer()\n",
    "sia.polarity_scores(\"I liked the food\")"
   ]
  },
  {
   "cell_type": "code",
   "execution_count": 60,
   "id": "765fd5dd",
   "metadata": {},
   "outputs": [
    {
     "data": {
      "text/plain": [
       "0       I IMPRESSED RESORT GREAT STAFF MAIN RESORT POO...\n",
       "1       THE ROOM NICE OUTSIDE NEED WORK ALSO FREE BREA...\n",
       "2       GREAT LOCATION I STAYED HOTEL LAST THREE TRIP ...\n",
       "3       THE HOTEL ADEQUATE STAY THE STRIP BATHTUB USEL...\n",
       "4       GREAT LOCATION ROOM LARGE SPACIOUS PARKING EAS...\n",
       "                              ...                        \n",
       "6443    STAFF FRIENDLY FRANK CHEF BUFFET BAR TOP MEETI...\n",
       "6444                    INTERNET BARELY WORKED DIDNT WORK\n",
       "6445            LOCATION GREAT BED UNCOMFORTABLE BED EVER\n",
       "6446    EARLY CHECK STAFF ACCOMMODATING ABLE CHECK SEV...\n",
       "6447    STAFF FREE COFFEE LOCATION ACTIVITY BED SMALLE...\n",
       "Name: Review, Length: 6448, dtype: object"
      ]
     },
     "execution_count": 60,
     "metadata": {},
     "output_type": "execute_result"
    }
   ],
   "source": [
    "df[\"Review\"].apply(lambda x: x.upper())"
   ]
  },
  {
   "cell_type": "code",
   "execution_count": 61,
   "id": "745843c1",
   "metadata": {},
   "outputs": [
    {
     "data": {
      "text/plain": [
       "0    {'neg': 0.0, 'neu': 0.517, 'pos': 0.483, 'comp...\n",
       "1    {'neg': 0.0, 'neu': 0.519, 'pos': 0.481, 'comp...\n",
       "2    {'neg': 0.0, 'neu': 0.728, 'pos': 0.272, 'comp...\n",
       "3    {'neg': 0.112, 'neu': 0.743, 'pos': 0.145, 'co...\n",
       "4    {'neg': 0.0, 'neu': 0.4, 'pos': 0.6, 'compound...\n",
       "5    {'neg': 0.091, 'neu': 0.436, 'pos': 0.473, 'co...\n",
       "6    {'neg': 0.0, 'neu': 1.0, 'pos': 0.0, 'compound...\n",
       "7    {'neg': 0.0, 'neu': 0.705, 'pos': 0.295, 'comp...\n",
       "8    {'neg': 0.0, 'neu': 0.68, 'pos': 0.32, 'compou...\n",
       "9    {'neg': 0.0, 'neu': 0.758, 'pos': 0.242, 'comp...\n",
       "Name: Review, dtype: object"
      ]
     },
     "execution_count": 61,
     "metadata": {},
     "output_type": "execute_result"
    }
   ],
   "source": [
    "df[\"Review\"][0:10].apply(lambda x: sia.polarity_scores(x))"
   ]
  },
  {
   "cell_type": "code",
   "execution_count": 62,
   "id": "7f7b4d85",
   "metadata": {},
   "outputs": [],
   "source": [
    "df[\"polarity_score\"] = df[\"Review\"].apply(lambda x: sia.polarity_scores(x)[\"compound\"])"
   ]
  },
  {
   "cell_type": "code",
   "execution_count": 63,
   "id": "cb1d0fde",
   "metadata": {},
   "outputs": [
    {
     "data": {
      "text/html": [
       "<div>\n",
       "<style scoped>\n",
       "    .dataframe tbody tr th:only-of-type {\n",
       "        vertical-align: middle;\n",
       "    }\n",
       "\n",
       "    .dataframe tbody tr th {\n",
       "        vertical-align: top;\n",
       "    }\n",
       "\n",
       "    .dataframe thead th {\n",
       "        text-align: right;\n",
       "    }\n",
       "</style>\n",
       "<table border=\"1\" class=\"dataframe\">\n",
       "  <thead>\n",
       "    <tr style=\"text-align: right;\">\n",
       "      <th></th>\n",
       "      <th>Review</th>\n",
       "      <th>date</th>\n",
       "      <th>Location</th>\n",
       "      <th>Unnamed: 3</th>\n",
       "      <th>polarity_score</th>\n",
       "    </tr>\n",
       "  </thead>\n",
       "  <tbody>\n",
       "    <tr>\n",
       "      <th>0</th>\n",
       "      <td>I impressed resort Great staff main resort poo...</td>\n",
       "      <td>2019-08-20</td>\n",
       "      <td>Sebastian</td>\n",
       "      <td>NaN</td>\n",
       "      <td>0.9325</td>\n",
       "    </tr>\n",
       "    <tr>\n",
       "      <th>1</th>\n",
       "      <td>The room nice outside need work also free brea...</td>\n",
       "      <td>2019-08-20</td>\n",
       "      <td>Los Angeles</td>\n",
       "      <td>NaN</td>\n",
       "      <td>0.8779</td>\n",
       "    </tr>\n",
       "    <tr>\n",
       "      <th>2</th>\n",
       "      <td>Great location I stayed hotel last three trip ...</td>\n",
       "      <td>2019-08-20</td>\n",
       "      <td>Georgia</td>\n",
       "      <td>NaN</td>\n",
       "      <td>0.6249</td>\n",
       "    </tr>\n",
       "    <tr>\n",
       "      <th>3</th>\n",
       "      <td>The hotel adequate stay The strip bathtub usel...</td>\n",
       "      <td>2019-08-20</td>\n",
       "      <td>NaN</td>\n",
       "      <td>NaN</td>\n",
       "      <td>0.1779</td>\n",
       "    </tr>\n",
       "    <tr>\n",
       "      <th>4</th>\n",
       "      <td>Great location room large spacious Parking eas...</td>\n",
       "      <td>2019-08-19</td>\n",
       "      <td>Palm Harbor</td>\n",
       "      <td>NaN</td>\n",
       "      <td>0.9260</td>\n",
       "    </tr>\n",
       "  </tbody>\n",
       "</table>\n",
       "</div>"
      ],
      "text/plain": [
       "                                              Review       date     Location  \\\n",
       "0  I impressed resort Great staff main resort poo... 2019-08-20    Sebastian   \n",
       "1  The room nice outside need work also free brea... 2019-08-20  Los Angeles   \n",
       "2  Great location I stayed hotel last three trip ... 2019-08-20      Georgia   \n",
       "3  The hotel adequate stay The strip bathtub usel... 2019-08-20          NaN   \n",
       "4  Great location room large spacious Parking eas... 2019-08-19  Palm Harbor   \n",
       "\n",
       "   Unnamed: 3  polarity_score  \n",
       "0         NaN          0.9325  \n",
       "1         NaN          0.8779  \n",
       "2         NaN          0.6249  \n",
       "3         NaN          0.1779  \n",
       "4         NaN          0.9260  "
      ]
     },
     "execution_count": 63,
     "metadata": {},
     "output_type": "execute_result"
    }
   ],
   "source": [
    "df.head()"
   ]
  },
  {
   "cell_type": "code",
   "execution_count": 64,
   "id": "d211654c",
   "metadata": {},
   "outputs": [
    {
     "data": {
      "text/plain": [
       "0    pos\n",
       "1    pos\n",
       "2    pos\n",
       "3    pos\n",
       "4    pos\n",
       "5    pos\n",
       "6    neg\n",
       "7    pos\n",
       "8    pos\n",
       "9    pos\n",
       "Name: Review, dtype: object"
      ]
     },
     "execution_count": 64,
     "metadata": {},
     "output_type": "execute_result"
    }
   ],
   "source": [
    "df[\"Review\"][0:10].apply(lambda x: \"pos\" if sia.polarity_scores(x)[\"compound\"] > 0 else \"neg\")"
   ]
  },
  {
   "cell_type": "code",
   "execution_count": 65,
   "id": "3d2c8273",
   "metadata": {},
   "outputs": [
    {
     "data": {
      "text/html": [
       "<div>\n",
       "<style scoped>\n",
       "    .dataframe tbody tr th:only-of-type {\n",
       "        vertical-align: middle;\n",
       "    }\n",
       "\n",
       "    .dataframe tbody tr th {\n",
       "        vertical-align: top;\n",
       "    }\n",
       "\n",
       "    .dataframe thead th {\n",
       "        text-align: right;\n",
       "    }\n",
       "</style>\n",
       "<table border=\"1\" class=\"dataframe\">\n",
       "  <thead>\n",
       "    <tr style=\"text-align: right;\">\n",
       "      <th></th>\n",
       "      <th>Review</th>\n",
       "      <th>date</th>\n",
       "      <th>Location</th>\n",
       "      <th>Unnamed: 3</th>\n",
       "      <th>polarity_score</th>\n",
       "      <th>sentiment_label</th>\n",
       "    </tr>\n",
       "  </thead>\n",
       "  <tbody>\n",
       "    <tr>\n",
       "      <th>0</th>\n",
       "      <td>I impressed resort Great staff main resort poo...</td>\n",
       "      <td>2019-08-20</td>\n",
       "      <td>Sebastian</td>\n",
       "      <td>NaN</td>\n",
       "      <td>0.9325</td>\n",
       "      <td>pos</td>\n",
       "    </tr>\n",
       "    <tr>\n",
       "      <th>1</th>\n",
       "      <td>The room nice outside need work also free brea...</td>\n",
       "      <td>2019-08-20</td>\n",
       "      <td>Los Angeles</td>\n",
       "      <td>NaN</td>\n",
       "      <td>0.8779</td>\n",
       "      <td>pos</td>\n",
       "    </tr>\n",
       "    <tr>\n",
       "      <th>2</th>\n",
       "      <td>Great location I stayed hotel last three trip ...</td>\n",
       "      <td>2019-08-20</td>\n",
       "      <td>Georgia</td>\n",
       "      <td>NaN</td>\n",
       "      <td>0.6249</td>\n",
       "      <td>pos</td>\n",
       "    </tr>\n",
       "    <tr>\n",
       "      <th>3</th>\n",
       "      <td>The hotel adequate stay The strip bathtub usel...</td>\n",
       "      <td>2019-08-20</td>\n",
       "      <td>NaN</td>\n",
       "      <td>NaN</td>\n",
       "      <td>0.1779</td>\n",
       "      <td>pos</td>\n",
       "    </tr>\n",
       "    <tr>\n",
       "      <th>4</th>\n",
       "      <td>Great location room large spacious Parking eas...</td>\n",
       "      <td>2019-08-19</td>\n",
       "      <td>Palm Harbor</td>\n",
       "      <td>NaN</td>\n",
       "      <td>0.9260</td>\n",
       "      <td>pos</td>\n",
       "    </tr>\n",
       "    <tr>\n",
       "      <th>...</th>\n",
       "      <td>...</td>\n",
       "      <td>...</td>\n",
       "      <td>...</td>\n",
       "      <td>...</td>\n",
       "      <td>...</td>\n",
       "      <td>...</td>\n",
       "    </tr>\n",
       "    <tr>\n",
       "      <th>6443</th>\n",
       "      <td>staff friendly frank chef buffet bar top meeti...</td>\n",
       "      <td>2019-07-12</td>\n",
       "      <td>United States of America</td>\n",
       "      <td>NaN</td>\n",
       "      <td>0.9682</td>\n",
       "      <td>pos</td>\n",
       "    </tr>\n",
       "    <tr>\n",
       "      <th>6444</th>\n",
       "      <td>internet barely worked didnt work</td>\n",
       "      <td>2019-07-12</td>\n",
       "      <td>United States of America</td>\n",
       "      <td>NaN</td>\n",
       "      <td>0.0000</td>\n",
       "      <td>neg</td>\n",
       "    </tr>\n",
       "    <tr>\n",
       "      <th>6445</th>\n",
       "      <td>location great bed uncomfortable bed ever</td>\n",
       "      <td>2019-07-10</td>\n",
       "      <td>United States of America</td>\n",
       "      <td>NaN</td>\n",
       "      <td>0.3612</td>\n",
       "      <td>pos</td>\n",
       "    </tr>\n",
       "    <tr>\n",
       "      <th>6446</th>\n",
       "      <td>early check staff accommodating able check sev...</td>\n",
       "      <td>2019-07-10</td>\n",
       "      <td>United States of America</td>\n",
       "      <td>NaN</td>\n",
       "      <td>0.0000</td>\n",
       "      <td>neg</td>\n",
       "    </tr>\n",
       "    <tr>\n",
       "      <th>6447</th>\n",
       "      <td>staff free coffee location activity bed smalle...</td>\n",
       "      <td>2019-07-10</td>\n",
       "      <td>United States of America</td>\n",
       "      <td>NaN</td>\n",
       "      <td>0.7650</td>\n",
       "      <td>pos</td>\n",
       "    </tr>\n",
       "  </tbody>\n",
       "</table>\n",
       "<p>6448 rows × 6 columns</p>\n",
       "</div>"
      ],
      "text/plain": [
       "                                                 Review       date  \\\n",
       "0     I impressed resort Great staff main resort poo... 2019-08-20   \n",
       "1     The room nice outside need work also free brea... 2019-08-20   \n",
       "2     Great location I stayed hotel last three trip ... 2019-08-20   \n",
       "3     The hotel adequate stay The strip bathtub usel... 2019-08-20   \n",
       "4     Great location room large spacious Parking eas... 2019-08-19   \n",
       "...                                                 ...        ...   \n",
       "6443  staff friendly frank chef buffet bar top meeti... 2019-07-12   \n",
       "6444                  internet barely worked didnt work 2019-07-12   \n",
       "6445          location great bed uncomfortable bed ever 2019-07-10   \n",
       "6446  early check staff accommodating able check sev... 2019-07-10   \n",
       "6447  staff free coffee location activity bed smalle... 2019-07-10   \n",
       "\n",
       "                      Location  Unnamed: 3  polarity_score sentiment_label  \n",
       "0                    Sebastian         NaN          0.9325             pos  \n",
       "1                  Los Angeles         NaN          0.8779             pos  \n",
       "2                      Georgia         NaN          0.6249             pos  \n",
       "3                          NaN         NaN          0.1779             pos  \n",
       "4                  Palm Harbor         NaN          0.9260             pos  \n",
       "...                        ...         ...             ...             ...  \n",
       "6443  United States of America         NaN          0.9682             pos  \n",
       "6444  United States of America         NaN          0.0000             neg  \n",
       "6445  United States of America         NaN          0.3612             pos  \n",
       "6446  United States of America         NaN          0.0000             neg  \n",
       "6447  United States of America         NaN          0.7650             pos  \n",
       "\n",
       "[6448 rows x 6 columns]"
      ]
     },
     "execution_count": 65,
     "metadata": {},
     "output_type": "execute_result"
    }
   ],
   "source": [
    "df[\"sentiment_label\"] = df[\"Review\"].apply(lambda x: \"pos\" if sia.polarity_scores(x)[\"compound\"] > 0 else \"neg\")\n",
    "df"
   ]
  },
  {
   "cell_type": "code",
   "execution_count": 66,
   "id": "fa6f69ae",
   "metadata": {},
   "outputs": [
    {
     "name": "stdout",
     "output_type": "stream",
     "text": [
      "<class 'pandas.core.frame.DataFrame'>\n",
      "RangeIndex: 6448 entries, 0 to 6447\n",
      "Data columns (total 6 columns):\n",
      " #   Column           Non-Null Count  Dtype         \n",
      "---  ------           --------------  -----         \n",
      " 0   Review           6448 non-null   object        \n",
      " 1   date             6448 non-null   datetime64[ns]\n",
      " 2   Location         1711 non-null   object        \n",
      " 3   Unnamed: 3       0 non-null      float64       \n",
      " 4   polarity_score   6448 non-null   float64       \n",
      " 5   sentiment_label  6448 non-null   object        \n",
      "dtypes: datetime64[ns](1), float64(2), object(3)\n",
      "memory usage: 302.4+ KB\n"
     ]
    }
   ],
   "source": [
    "df.info()"
   ]
  },
  {
   "cell_type": "code",
   "execution_count": 67,
   "id": "04ddf6fc",
   "metadata": {},
   "outputs": [
    {
     "data": {
      "text/plain": [
       "1796"
      ]
     },
     "execution_count": 67,
     "metadata": {},
     "output_type": "execute_result"
    }
   ],
   "source": [
    "df[\"sentiment_label\"].value_counts()[1]"
   ]
  },
  {
   "cell_type": "code",
   "execution_count": 68,
   "id": "2519e411",
   "metadata": {},
   "outputs": [
    {
     "data": {
      "text/plain": [
       "72.14640198511167"
      ]
     },
     "execution_count": 68,
     "metadata": {},
     "output_type": "execute_result"
    }
   ],
   "source": [
    "## % of positive tweets->the % of customers gave satisfactory reviews\n",
    "(df[\"sentiment_label\"].value_counts()[0]/(df[\"sentiment_label\"].value_counts()[0]+df[\"sentiment_label\"].value_counts()[1]))*100"
   ]
  },
  {
   "cell_type": "code",
   "execution_count": 69,
   "id": "56d11e21",
   "metadata": {},
   "outputs": [
    {
     "data": {
      "text/plain": [
       "27.853598014888338"
      ]
     },
     "execution_count": 69,
     "metadata": {},
     "output_type": "execute_result"
    }
   ],
   "source": [
    "## % of negative sentiment-> % of customers gave unsatisfactory reviews\n",
    "(df[\"sentiment_label\"].value_counts()[1]/(df[\"sentiment_label\"].value_counts()[0]+df[\"sentiment_label\"].value_counts()[1]))*100"
   ]
  },
  {
   "cell_type": "code",
   "execution_count": 70,
   "id": "f60fde10",
   "metadata": {},
   "outputs": [
    {
     "data": {
      "text/plain": [
       "array(['pos', 'pos', 'pos', ..., 'pos', 'neg', 'pos'], dtype=object)"
      ]
     },
     "execution_count": 70,
     "metadata": {},
     "output_type": "execute_result"
    }
   ],
   "source": [
    "sent = df['sentiment_label'].values\n",
    "sent"
   ]
  },
  {
   "cell_type": "code",
   "execution_count": 74,
   "id": "4734cf42",
   "metadata": {},
   "outputs": [
    {
     "data": {
      "text/plain": [
       "0.4394559398263027"
      ]
     },
     "execution_count": 74,
     "metadata": {},
     "output_type": "execute_result"
    }
   ],
   "source": [
    "## The mean polarity score depicts the overall sentiment of the customer reviews which comes out to be less than neutral\n",
    "df['polarity_score'].mean()"
   ]
  },
  {
   "cell_type": "markdown",
   "id": "1154bd31",
   "metadata": {},
   "source": [
    "### Now segregating positive and negative feedbacks and understanding what contributes to the respective feedbacks"
   ]
  },
  {
   "cell_type": "code",
   "execution_count": 75,
   "id": "4bf35498",
   "metadata": {},
   "outputs": [],
   "source": [
    "pos = df[df['sentiment_label']=='pos']\n",
    "neg = df[df['sentiment_label']=='neg']"
   ]
  },
  {
   "cell_type": "code",
   "execution_count": 76,
   "id": "2a09eb11",
   "metadata": {},
   "outputs": [
    {
     "data": {
      "text/html": [
       "<div>\n",
       "<style scoped>\n",
       "    .dataframe tbody tr th:only-of-type {\n",
       "        vertical-align: middle;\n",
       "    }\n",
       "\n",
       "    .dataframe tbody tr th {\n",
       "        vertical-align: top;\n",
       "    }\n",
       "\n",
       "    .dataframe thead th {\n",
       "        text-align: right;\n",
       "    }\n",
       "</style>\n",
       "<table border=\"1\" class=\"dataframe\">\n",
       "  <thead>\n",
       "    <tr style=\"text-align: right;\">\n",
       "      <th></th>\n",
       "      <th>Review</th>\n",
       "      <th>date</th>\n",
       "      <th>Location</th>\n",
       "      <th>Unnamed: 3</th>\n",
       "      <th>polarity_score</th>\n",
       "      <th>sentiment_label</th>\n",
       "    </tr>\n",
       "  </thead>\n",
       "  <tbody>\n",
       "    <tr>\n",
       "      <th>6</th>\n",
       "      <td>Old Musty Motel Bath need update asap Read Rea...</td>\n",
       "      <td>2019-08-19</td>\n",
       "      <td>NaN</td>\n",
       "      <td>NaN</td>\n",
       "      <td>0.0000</td>\n",
       "      <td>neg</td>\n",
       "    </tr>\n",
       "    <tr>\n",
       "      <th>21</th>\n",
       "      <td>The room tiny The building old worn inside Nee...</td>\n",
       "      <td>2019-08-18</td>\n",
       "      <td>NaN</td>\n",
       "      <td>NaN</td>\n",
       "      <td>-0.0320</td>\n",
       "      <td>neg</td>\n",
       "    </tr>\n",
       "    <tr>\n",
       "      <th>23</th>\n",
       "      <td>基本的に問題なしでした 清潔で防音も普通な方で水回りも清潔でシャワーの水圧も問題なしです た...</td>\n",
       "      <td>2019-08-18</td>\n",
       "      <td>NaN</td>\n",
       "      <td>NaN</td>\n",
       "      <td>0.0000</td>\n",
       "      <td>neg</td>\n",
       "    </tr>\n",
       "    <tr>\n",
       "      <th>29</th>\n",
       "      <td>En general excelente Fantástica situación Dos ...</td>\n",
       "      <td>2019-08-17</td>\n",
       "      <td>España</td>\n",
       "      <td>NaN</td>\n",
       "      <td>-0.2960</td>\n",
       "      <td>neg</td>\n",
       "    </tr>\n",
       "    <tr>\n",
       "      <th>31</th>\n",
       "      <td>Les chambres familiales sont pratiques nous ét...</td>\n",
       "      <td>2019-08-17</td>\n",
       "      <td>Montréal</td>\n",
       "      <td>NaN</td>\n",
       "      <td>-0.4588</td>\n",
       "      <td>neg</td>\n",
       "    </tr>\n",
       "    <tr>\n",
       "      <th>...</th>\n",
       "      <td>...</td>\n",
       "      <td>...</td>\n",
       "      <td>...</td>\n",
       "      <td>...</td>\n",
       "      <td>...</td>\n",
       "      <td>...</td>\n",
       "    </tr>\n",
       "    <tr>\n",
       "      <th>6436</th>\n",
       "      <td>near airport round clock shuttle airport coffe...</td>\n",
       "      <td>2019-07-14</td>\n",
       "      <td>Malaysia</td>\n",
       "      <td>NaN</td>\n",
       "      <td>0.0000</td>\n",
       "      <td>neg</td>\n",
       "    </tr>\n",
       "    <tr>\n",
       "      <th>6437</th>\n",
       "      <td>bed cystomer service unprofessional disrespect...</td>\n",
       "      <td>2019-07-14</td>\n",
       "      <td>United States of America</td>\n",
       "      <td>NaN</td>\n",
       "      <td>-0.7964</td>\n",
       "      <td>neg</td>\n",
       "    </tr>\n",
       "    <tr>\n",
       "      <th>6442</th>\n",
       "      <td>hmm proximity airport time shuttle service shu...</td>\n",
       "      <td>2019-07-13</td>\n",
       "      <td>Trinidad and Tobago</td>\n",
       "      <td>NaN</td>\n",
       "      <td>-0.5095</td>\n",
       "      <td>neg</td>\n",
       "    </tr>\n",
       "    <tr>\n",
       "      <th>6444</th>\n",
       "      <td>internet barely worked didnt work</td>\n",
       "      <td>2019-07-12</td>\n",
       "      <td>United States of America</td>\n",
       "      <td>NaN</td>\n",
       "      <td>0.0000</td>\n",
       "      <td>neg</td>\n",
       "    </tr>\n",
       "    <tr>\n",
       "      <th>6446</th>\n",
       "      <td>early check staff accommodating able check sev...</td>\n",
       "      <td>2019-07-10</td>\n",
       "      <td>United States of America</td>\n",
       "      <td>NaN</td>\n",
       "      <td>0.0000</td>\n",
       "      <td>neg</td>\n",
       "    </tr>\n",
       "  </tbody>\n",
       "</table>\n",
       "<p>1796 rows × 6 columns</p>\n",
       "</div>"
      ],
      "text/plain": [
       "                                                 Review       date  \\\n",
       "6     Old Musty Motel Bath need update asap Read Rea... 2019-08-19   \n",
       "21    The room tiny The building old worn inside Nee... 2019-08-18   \n",
       "23    基本的に問題なしでした 清潔で防音も普通な方で水回りも清潔でシャワーの水圧も問題なしです た... 2019-08-18   \n",
       "29    En general excelente Fantástica situación Dos ... 2019-08-17   \n",
       "31    Les chambres familiales sont pratiques nous ét... 2019-08-17   \n",
       "...                                                 ...        ...   \n",
       "6436  near airport round clock shuttle airport coffe... 2019-07-14   \n",
       "6437  bed cystomer service unprofessional disrespect... 2019-07-14   \n",
       "6442  hmm proximity airport time shuttle service shu... 2019-07-13   \n",
       "6444                  internet barely worked didnt work 2019-07-12   \n",
       "6446  early check staff accommodating able check sev... 2019-07-10   \n",
       "\n",
       "                      Location  Unnamed: 3  polarity_score sentiment_label  \n",
       "6                          NaN         NaN          0.0000             neg  \n",
       "21                         NaN         NaN         -0.0320             neg  \n",
       "23                         NaN         NaN          0.0000             neg  \n",
       "29                      España         NaN         -0.2960             neg  \n",
       "31                    Montréal         NaN         -0.4588             neg  \n",
       "...                        ...         ...             ...             ...  \n",
       "6436                  Malaysia         NaN          0.0000             neg  \n",
       "6437  United States of America         NaN         -0.7964             neg  \n",
       "6442       Trinidad and Tobago         NaN         -0.5095             neg  \n",
       "6444  United States of America         NaN          0.0000             neg  \n",
       "6446  United States of America         NaN          0.0000             neg  \n",
       "\n",
       "[1796 rows x 6 columns]"
      ]
     },
     "execution_count": 76,
     "metadata": {},
     "output_type": "execute_result"
    }
   ],
   "source": [
    "neg"
   ]
  },
  {
   "cell_type": "code",
   "execution_count": 77,
   "id": "3694aee0",
   "metadata": {},
   "outputs": [
    {
     "data": {
      "text/plain": [
       "count    9110.000000\n",
       "mean       13.118332\n",
       "std       114.155326\n",
       "min         1.000000\n",
       "5%          1.000000\n",
       "10%         1.000000\n",
       "25%         1.000000\n",
       "50%         1.000000\n",
       "75%         4.000000\n",
       "80%         6.000000\n",
       "90%        17.000000\n",
       "95%        43.000000\n",
       "99%       176.910000\n",
       "max      7578.000000\n",
       "Name: tf, dtype: float64"
      ]
     },
     "execution_count": 77,
     "metadata": {},
     "output_type": "execute_result"
    }
   ],
   "source": [
    "pos['Review'] = pos['Review'].apply(lambda x: \" \".join(x for x in str(x).split() if x not in sw))\n",
    "drops = pd.Series(' '.join(pos['Review']).split()).value_counts()[-250:]\n",
    "pos['Review'] = pos['Review'].apply(lambda x: \" \".join(x for x in x.split() if x not in drops))\n",
    "pos[\"Review\"].apply(lambda x: TextBlob(x).words).head()\n",
    "pos['Review'] = pos['Review'].apply(lambda x: \" \".join([Word(word).lemmatize() for word in x.split()]))\n",
    "tf_pos = pos[\"Review\"].apply(lambda x: pd.value_counts(x.split(\" \"))).sum(axis=0).reset_index()\n",
    "tf_pos.columns = [\"words\", \"tf\"]\n",
    "tf_pos[\"tf\"].describe([0.05, 0.10, 0.25, 0.50, 0.75, 0.80, 0.90, 0.95, 0.99]).T"
   ]
  },
  {
   "cell_type": "code",
   "execution_count": 78,
   "id": "049eb3e3",
   "metadata": {},
   "outputs": [
    {
     "data": {
      "text/html": [
       "<div>\n",
       "<style scoped>\n",
       "    .dataframe tbody tr th:only-of-type {\n",
       "        vertical-align: middle;\n",
       "    }\n",
       "\n",
       "    .dataframe tbody tr th {\n",
       "        vertical-align: top;\n",
       "    }\n",
       "\n",
       "    .dataframe thead th {\n",
       "        text-align: right;\n",
       "    }\n",
       "</style>\n",
       "<table border=\"1\" class=\"dataframe\">\n",
       "  <thead>\n",
       "    <tr style=\"text-align: right;\">\n",
       "      <th></th>\n",
       "      <th>words</th>\n",
       "      <th>tf</th>\n",
       "    </tr>\n",
       "  </thead>\n",
       "  <tbody>\n",
       "    <tr>\n",
       "      <th>2</th>\n",
       "      <td>Read</td>\n",
       "      <td>7578.0</td>\n",
       "    </tr>\n",
       "    <tr>\n",
       "      <th>9</th>\n",
       "      <td>le</td>\n",
       "      <td>3853.0</td>\n",
       "    </tr>\n",
       "    <tr>\n",
       "      <th>28</th>\n",
       "      <td>room</td>\n",
       "      <td>3020.0</td>\n",
       "    </tr>\n",
       "    <tr>\n",
       "      <th>21</th>\n",
       "      <td>The</td>\n",
       "      <td>2631.0</td>\n",
       "    </tr>\n",
       "    <tr>\n",
       "      <th>11</th>\n",
       "      <td>I</td>\n",
       "      <td>2515.0</td>\n",
       "    </tr>\n",
       "    <tr>\n",
       "      <th>29</th>\n",
       "      <td>hotel</td>\n",
       "      <td>2125.0</td>\n",
       "    </tr>\n",
       "    <tr>\n",
       "      <th>0</th>\n",
       "      <td>staff</td>\n",
       "      <td>1313.0</td>\n",
       "    </tr>\n",
       "    <tr>\n",
       "      <th>122</th>\n",
       "      <td>clean</td>\n",
       "      <td>1131.0</td>\n",
       "    </tr>\n",
       "    <tr>\n",
       "      <th>7</th>\n",
       "      <td>location</td>\n",
       "      <td>1100.0</td>\n",
       "    </tr>\n",
       "    <tr>\n",
       "      <th>41</th>\n",
       "      <td>stay</td>\n",
       "      <td>1088.0</td>\n",
       "    </tr>\n",
       "    <tr>\n",
       "      <th>14</th>\n",
       "      <td>great</td>\n",
       "      <td>1076.0</td>\n",
       "    </tr>\n",
       "    <tr>\n",
       "      <th>17</th>\n",
       "      <td>nice</td>\n",
       "      <td>945.0</td>\n",
       "    </tr>\n",
       "    <tr>\n",
       "      <th>13</th>\n",
       "      <td>We</td>\n",
       "      <td>887.0</td>\n",
       "    </tr>\n",
       "    <tr>\n",
       "      <th>66</th>\n",
       "      <td>good</td>\n",
       "      <td>711.0</td>\n",
       "    </tr>\n",
       "    <tr>\n",
       "      <th>69</th>\n",
       "      <td>friendly</td>\n",
       "      <td>700.0</td>\n",
       "    </tr>\n",
       "    <tr>\n",
       "      <th>44</th>\n",
       "      <td>time</td>\n",
       "      <td>615.0</td>\n",
       "    </tr>\n",
       "    <tr>\n",
       "      <th>170</th>\n",
       "      <td>bed</td>\n",
       "      <td>579.0</td>\n",
       "    </tr>\n",
       "    <tr>\n",
       "      <th>306</th>\n",
       "      <td>night</td>\n",
       "      <td>545.0</td>\n",
       "    </tr>\n",
       "    <tr>\n",
       "      <th>15</th>\n",
       "      <td>pool</td>\n",
       "      <td>537.0</td>\n",
       "    </tr>\n",
       "    <tr>\n",
       "      <th>10</th>\n",
       "      <td>Great</td>\n",
       "      <td>504.0</td>\n",
       "    </tr>\n",
       "    <tr>\n",
       "      <th>121</th>\n",
       "      <td>service</td>\n",
       "      <td>494.0</td>\n",
       "    </tr>\n",
       "    <tr>\n",
       "      <th>23</th>\n",
       "      <td>would</td>\n",
       "      <td>493.0</td>\n",
       "    </tr>\n",
       "    <tr>\n",
       "      <th>198</th>\n",
       "      <td>It</td>\n",
       "      <td>466.0</td>\n",
       "    </tr>\n",
       "    <tr>\n",
       "      <th>181</th>\n",
       "      <td>helpful</td>\n",
       "      <td>465.0</td>\n",
       "    </tr>\n",
       "    <tr>\n",
       "      <th>436</th>\n",
       "      <td>like</td>\n",
       "      <td>457.0</td>\n",
       "    </tr>\n",
       "    <tr>\n",
       "      <th>191</th>\n",
       "      <td>u</td>\n",
       "      <td>450.0</td>\n",
       "    </tr>\n",
       "    <tr>\n",
       "      <th>111</th>\n",
       "      <td>small</td>\n",
       "      <td>435.0</td>\n",
       "    </tr>\n",
       "    <tr>\n",
       "      <th>133</th>\n",
       "      <td>comfortable</td>\n",
       "      <td>420.0</td>\n",
       "    </tr>\n",
       "    <tr>\n",
       "      <th>539</th>\n",
       "      <td>Disney</td>\n",
       "      <td>416.0</td>\n",
       "    </tr>\n",
       "    <tr>\n",
       "      <th>199</th>\n",
       "      <td>day</td>\n",
       "      <td>409.0</td>\n",
       "    </tr>\n",
       "    <tr>\n",
       "      <th>207</th>\n",
       "      <td>place</td>\n",
       "      <td>406.0</td>\n",
       "    </tr>\n",
       "    <tr>\n",
       "      <th>461</th>\n",
       "      <td>one</td>\n",
       "      <td>404.0</td>\n",
       "    </tr>\n",
       "    <tr>\n",
       "      <th>95</th>\n",
       "      <td>area</td>\n",
       "      <td>400.0</td>\n",
       "    </tr>\n",
       "    <tr>\n",
       "      <th>45</th>\n",
       "      <td>desk</td>\n",
       "      <td>400.0</td>\n",
       "    </tr>\n",
       "    <tr>\n",
       "      <th>172</th>\n",
       "      <td>property</td>\n",
       "      <td>396.0</td>\n",
       "    </tr>\n",
       "    <tr>\n",
       "      <th>131</th>\n",
       "      <td>restaurant</td>\n",
       "      <td>390.0</td>\n",
       "    </tr>\n",
       "    <tr>\n",
       "      <th>53</th>\n",
       "      <td>get</td>\n",
       "      <td>377.0</td>\n",
       "    </tr>\n",
       "    <tr>\n",
       "      <th>743</th>\n",
       "      <td>check</td>\n",
       "      <td>376.0</td>\n",
       "    </tr>\n",
       "    <tr>\n",
       "      <th>247</th>\n",
       "      <td>parking</td>\n",
       "      <td>375.0</td>\n",
       "    </tr>\n",
       "    <tr>\n",
       "      <th>108</th>\n",
       "      <td>close</td>\n",
       "      <td>365.0</td>\n",
       "    </tr>\n",
       "  </tbody>\n",
       "</table>\n",
       "</div>"
      ],
      "text/plain": [
       "           words      tf\n",
       "2           Read  7578.0\n",
       "9             le  3853.0\n",
       "28          room  3020.0\n",
       "21           The  2631.0\n",
       "11             I  2515.0\n",
       "29         hotel  2125.0\n",
       "0          staff  1313.0\n",
       "122        clean  1131.0\n",
       "7       location  1100.0\n",
       "41          stay  1088.0\n",
       "14         great  1076.0\n",
       "17          nice   945.0\n",
       "13            We   887.0\n",
       "66          good   711.0\n",
       "69      friendly   700.0\n",
       "44          time   615.0\n",
       "170          bed   579.0\n",
       "306        night   545.0\n",
       "15          pool   537.0\n",
       "10         Great   504.0\n",
       "121      service   494.0\n",
       "23         would   493.0\n",
       "198           It   466.0\n",
       "181      helpful   465.0\n",
       "436         like   457.0\n",
       "191            u   450.0\n",
       "111        small   435.0\n",
       "133  comfortable   420.0\n",
       "539       Disney   416.0\n",
       "199          day   409.0\n",
       "207        place   406.0\n",
       "461          one   404.0\n",
       "95          area   400.0\n",
       "45          desk   400.0\n",
       "172     property   396.0\n",
       "131   restaurant   390.0\n",
       "53           get   377.0\n",
       "743        check   376.0\n",
       "247      parking   375.0\n",
       "108        close   365.0"
      ]
     },
     "execution_count": 78,
     "metadata": {},
     "output_type": "execute_result"
    }
   ],
   "source": [
    "tf_pos.sort_values(\"tf\", ascending = False).head(40)"
   ]
  },
  {
   "cell_type": "code",
   "execution_count": 79,
   "id": "e1bc0505",
   "metadata": {},
   "outputs": [
    {
     "data": {
      "text/plain": [
       "count    8973.000000\n",
       "mean        5.223782\n",
       "std        42.257974\n",
       "min         1.000000\n",
       "5%          1.000000\n",
       "10%         1.000000\n",
       "25%         1.000000\n",
       "50%         1.000000\n",
       "75%         3.000000\n",
       "80%         3.000000\n",
       "90%         8.000000\n",
       "95%        16.000000\n",
       "99%        60.280000\n",
       "max      3034.000000\n",
       "Name: tf, dtype: float64"
      ]
     },
     "execution_count": 79,
     "metadata": {},
     "output_type": "execute_result"
    }
   ],
   "source": [
    "neg['Review'] = neg['Review'].apply(lambda x: \" \".join(x for x in str(x).split() if x not in sw))\n",
    "drops = pd.Series(' '.join(neg['Review']).split()).value_counts()[-250:]\n",
    "neg['Review'] = neg['Review'].apply(lambda x: \" \".join(x for x in x.split() if x not in drops))\n",
    "neg[\"Review\"].apply(lambda x: TextBlob(x).words).head()\n",
    "neg['Review'] = neg['Review'].apply(lambda x: \" \".join([Word(word).lemmatize() for word in x.split()]))\n",
    "tf_neg = neg[\"Review\"].apply(lambda x: pd.value_counts(x.split(\" \"))).sum(axis=0).reset_index()\n",
    "tf_neg.columns = [\"words\", \"tf\"]\n",
    "tf_neg[\"tf\"].describe([0.05, 0.10, 0.25, 0.50, 0.75, 0.80, 0.90, 0.95, 0.99]).T"
   ]
  },
  {
   "cell_type": "code",
   "execution_count": 80,
   "id": "8cd0b4cc",
   "metadata": {},
   "outputs": [
    {
     "data": {
      "text/html": [
       "<div>\n",
       "<style scoped>\n",
       "    .dataframe tbody tr th:only-of-type {\n",
       "        vertical-align: middle;\n",
       "    }\n",
       "\n",
       "    .dataframe tbody tr th {\n",
       "        vertical-align: top;\n",
       "    }\n",
       "\n",
       "    .dataframe thead th {\n",
       "        text-align: right;\n",
       "    }\n",
       "</style>\n",
       "<table border=\"1\" class=\"dataframe\">\n",
       "  <thead>\n",
       "    <tr style=\"text-align: right;\">\n",
       "      <th></th>\n",
       "      <th>words</th>\n",
       "      <th>tf</th>\n",
       "    </tr>\n",
       "  </thead>\n",
       "  <tbody>\n",
       "    <tr>\n",
       "      <th>0</th>\n",
       "      <td>Read</td>\n",
       "      <td>3034.0</td>\n",
       "    </tr>\n",
       "    <tr>\n",
       "      <th>4</th>\n",
       "      <td>le</td>\n",
       "      <td>1556.0</td>\n",
       "    </tr>\n",
       "    <tr>\n",
       "      <th>16</th>\n",
       "      <td>room</td>\n",
       "      <td>1079.0</td>\n",
       "    </tr>\n",
       "    <tr>\n",
       "      <th>27</th>\n",
       "      <td>I</td>\n",
       "      <td>1012.0</td>\n",
       "    </tr>\n",
       "    <tr>\n",
       "      <th>8</th>\n",
       "      <td>The</td>\n",
       "      <td>671.0</td>\n",
       "    </tr>\n",
       "    <tr>\n",
       "      <th>26</th>\n",
       "      <td>hotel</td>\n",
       "      <td>606.0</td>\n",
       "    </tr>\n",
       "    <tr>\n",
       "      <th>72</th>\n",
       "      <td>de</td>\n",
       "      <td>275.0</td>\n",
       "    </tr>\n",
       "    <tr>\n",
       "      <th>438</th>\n",
       "      <td>night</td>\n",
       "      <td>228.0</td>\n",
       "    </tr>\n",
       "    <tr>\n",
       "      <th>150</th>\n",
       "      <td>stay</td>\n",
       "      <td>213.0</td>\n",
       "    </tr>\n",
       "    <tr>\n",
       "      <th>476</th>\n",
       "      <td>We</td>\n",
       "      <td>208.0</td>\n",
       "    </tr>\n",
       "    <tr>\n",
       "      <th>52</th>\n",
       "      <td>la</td>\n",
       "      <td>207.0</td>\n",
       "    </tr>\n",
       "    <tr>\n",
       "      <th>624</th>\n",
       "      <td>bed</td>\n",
       "      <td>187.0</td>\n",
       "    </tr>\n",
       "    <tr>\n",
       "      <th>529</th>\n",
       "      <td>day</td>\n",
       "      <td>183.0</td>\n",
       "    </tr>\n",
       "    <tr>\n",
       "      <th>20</th>\n",
       "      <td>time</td>\n",
       "      <td>174.0</td>\n",
       "    </tr>\n",
       "    <tr>\n",
       "      <th>190</th>\n",
       "      <td>e</td>\n",
       "      <td>172.0</td>\n",
       "    </tr>\n",
       "    <tr>\n",
       "      <th>392</th>\n",
       "      <td>staff</td>\n",
       "      <td>166.0</td>\n",
       "    </tr>\n",
       "    <tr>\n",
       "      <th>125</th>\n",
       "      <td>dirty</td>\n",
       "      <td>163.0</td>\n",
       "    </tr>\n",
       "    <tr>\n",
       "      <th>173</th>\n",
       "      <td>didnt</td>\n",
       "      <td>162.0</td>\n",
       "    </tr>\n",
       "    <tr>\n",
       "      <th>375</th>\n",
       "      <td>service</td>\n",
       "      <td>157.0</td>\n",
       "    </tr>\n",
       "    <tr>\n",
       "      <th>242</th>\n",
       "      <td>check</td>\n",
       "      <td>154.0</td>\n",
       "    </tr>\n",
       "    <tr>\n",
       "      <th>316</th>\n",
       "      <td>u</td>\n",
       "      <td>153.0</td>\n",
       "    </tr>\n",
       "    <tr>\n",
       "      <th>300</th>\n",
       "      <td>desk</td>\n",
       "      <td>148.0</td>\n",
       "    </tr>\n",
       "    <tr>\n",
       "      <th>612</th>\n",
       "      <td>get</td>\n",
       "      <td>144.0</td>\n",
       "    </tr>\n",
       "    <tr>\n",
       "      <th>353</th>\n",
       "      <td>parking</td>\n",
       "      <td>142.0</td>\n",
       "    </tr>\n",
       "    <tr>\n",
       "      <th>524</th>\n",
       "      <td>one</td>\n",
       "      <td>138.0</td>\n",
       "    </tr>\n",
       "    <tr>\n",
       "      <th>158</th>\n",
       "      <td>would</td>\n",
       "      <td>135.0</td>\n",
       "    </tr>\n",
       "    <tr>\n",
       "      <th>571</th>\n",
       "      <td>never</td>\n",
       "      <td>132.0</td>\n",
       "    </tr>\n",
       "    <tr>\n",
       "      <th>352</th>\n",
       "      <td>like</td>\n",
       "      <td>131.0</td>\n",
       "    </tr>\n",
       "    <tr>\n",
       "      <th>38</th>\n",
       "      <td>bathroom</td>\n",
       "      <td>128.0</td>\n",
       "    </tr>\n",
       "    <tr>\n",
       "      <th>157</th>\n",
       "      <td>It</td>\n",
       "      <td>126.0</td>\n",
       "    </tr>\n",
       "    <tr>\n",
       "      <th>303</th>\n",
       "      <td>front</td>\n",
       "      <td>121.0</td>\n",
       "    </tr>\n",
       "    <tr>\n",
       "      <th>426</th>\n",
       "      <td>door</td>\n",
       "      <td>121.0</td>\n",
       "    </tr>\n",
       "    <tr>\n",
       "      <th>51</th>\n",
       "      <td>en</td>\n",
       "      <td>119.0</td>\n",
       "    </tr>\n",
       "    <tr>\n",
       "      <th>36</th>\n",
       "      <td>old</td>\n",
       "      <td>116.0</td>\n",
       "    </tr>\n",
       "    <tr>\n",
       "      <th>455</th>\n",
       "      <td>que</td>\n",
       "      <td>116.0</td>\n",
       "    </tr>\n",
       "    <tr>\n",
       "      <th>905</th>\n",
       "      <td>Hotel</td>\n",
       "      <td>115.0</td>\n",
       "    </tr>\n",
       "    <tr>\n",
       "      <th>71</th>\n",
       "      <td>No</td>\n",
       "      <td>107.0</td>\n",
       "    </tr>\n",
       "    <tr>\n",
       "      <th>306</th>\n",
       "      <td>small</td>\n",
       "      <td>103.0</td>\n",
       "    </tr>\n",
       "    <tr>\n",
       "      <th>1098</th>\n",
       "      <td>place</td>\n",
       "      <td>103.0</td>\n",
       "    </tr>\n",
       "    <tr>\n",
       "      <th>617</th>\n",
       "      <td>could</td>\n",
       "      <td>101.0</td>\n",
       "    </tr>\n",
       "  </tbody>\n",
       "</table>\n",
       "</div>"
      ],
      "text/plain": [
       "         words      tf\n",
       "0         Read  3034.0\n",
       "4           le  1556.0\n",
       "16        room  1079.0\n",
       "27           I  1012.0\n",
       "8          The   671.0\n",
       "26       hotel   606.0\n",
       "72          de   275.0\n",
       "438      night   228.0\n",
       "150       stay   213.0\n",
       "476         We   208.0\n",
       "52          la   207.0\n",
       "624        bed   187.0\n",
       "529        day   183.0\n",
       "20        time   174.0\n",
       "190          e   172.0\n",
       "392      staff   166.0\n",
       "125      dirty   163.0\n",
       "173      didnt   162.0\n",
       "375    service   157.0\n",
       "242      check   154.0\n",
       "316          u   153.0\n",
       "300       desk   148.0\n",
       "612        get   144.0\n",
       "353    parking   142.0\n",
       "524        one   138.0\n",
       "158      would   135.0\n",
       "571      never   132.0\n",
       "352       like   131.0\n",
       "38    bathroom   128.0\n",
       "157         It   126.0\n",
       "303      front   121.0\n",
       "426       door   121.0\n",
       "51          en   119.0\n",
       "36         old   116.0\n",
       "455        que   116.0\n",
       "905      Hotel   115.0\n",
       "71          No   107.0\n",
       "306      small   103.0\n",
       "1098     place   103.0\n",
       "617      could   101.0"
      ]
     },
     "execution_count": 80,
     "metadata": {},
     "output_type": "execute_result"
    }
   ],
   "source": [
    "tf_neg.sort_values(\"tf\", ascending = False).head(40)"
   ]
  },
  {
   "cell_type": "code",
   "execution_count": 259,
   "id": "98750d05",
   "metadata": {},
   "outputs": [
    {
     "data": {
      "text/plain": [
       "52.62096774193549"
      ]
     },
     "execution_count": 259,
     "metadata": {},
     "output_type": "execute_result"
    }
   ],
   "source": [
    "## Percentage of customers who were not comfortable to share their location whose feedback was positive in nature\n",
    "((pos['Location'].isnull().sum())/len(df['Location']))*100"
   ]
  },
  {
   "cell_type": "code",
   "execution_count": 260,
   "id": "a057f212",
   "metadata": {},
   "outputs": [
    {
     "data": {
      "text/plain": [
       "20.843672456575682"
      ]
     },
     "execution_count": 260,
     "metadata": {},
     "output_type": "execute_result"
    }
   ],
   "source": [
    "## Percentage of customers who were not comfortable to share their location whose feedback was negative in nature\n",
    "((neg['Location'].isnull().sum())/len(df['Location']))*100"
   ]
  },
  {
   "cell_type": "code",
   "execution_count": 96,
   "id": "145d3411",
   "metadata": {},
   "outputs": [
    {
     "data": {
      "text/plain": [
       "73.46464019851116"
      ]
     },
     "execution_count": 96,
     "metadata": {},
     "output_type": "execute_result"
    }
   ],
   "source": [
    "## Percenatage of customers not comfortable to share their location\n",
    "a=((df['Location'].isna().sum())/len(df['Location']))*100\n",
    "a"
   ]
  },
  {
   "cell_type": "code",
   "execution_count": 95,
   "id": "6a372701",
   "metadata": {},
   "outputs": [
    {
     "data": {
      "text/plain": [
       "1.7990074441687345"
      ]
     },
     "execution_count": 95,
     "metadata": {},
     "output_type": "execute_result"
    }
   ],
   "source": [
    "## Percentage of customers who only entered the value of Location as 'United States of America'\n",
    "b = len(df[df['Location']=='United States of America'])/len(df['Location'])*100\n",
    "b"
   ]
  },
  {
   "cell_type": "code",
   "execution_count": 94,
   "id": "164cbb23",
   "metadata": {},
   "outputs": [
    {
     "data": {
      "text/plain": [
       "24.736352357320104"
      ]
     },
     "execution_count": 94,
     "metadata": {},
     "output_type": "execute_result"
    }
   ],
   "source": [
    "## Percentage of customers who were not comfortable to share their location\n",
    "c=100-a-b\n",
    "c"
   ]
  },
  {
   "cell_type": "markdown",
   "id": "9d8a09c1",
   "metadata": {},
   "source": [
    "1. 72% of the feedback reveals the satisfaction of the customers while 28% of the feedbacks weren't satisfactory\n",
    "\n",
    "2. Surprisingly, The overall feedback on average has been neutral which depicts the need for improvements\n",
    "\n",
    "3. 73% of the customers were not comfortable to share their location in the feedback. Even if they do, less than 2% enters the location as USA. The rest of the 25% population are open to share their location.\n",
    "\n",
    "4. The staff, location and cleanliness significantly contributes to the positive feedback of the customers while parking is one of the concern for the unsatisfactory feedback and customers face difficulty in the night time\n",
    "\n",
    "6. Based on the hypothesis on the behavior of the customers that those having negative feedback are not comfortable to share the location which comes out to be False. The causation behind it could be probably because of either time constraint or less seriousness towards filling the customer feedback"
   ]
  }
 ],
 "metadata": {
  "kernelspec": {
   "display_name": "Python 3 (ipykernel)",
   "language": "python",
   "name": "python3"
  },
  "language_info": {
   "codemirror_mode": {
    "name": "ipython",
    "version": 3
   },
   "file_extension": ".py",
   "mimetype": "text/x-python",
   "name": "python",
   "nbconvert_exporter": "python",
   "pygments_lexer": "ipython3",
   "version": "3.9.10"
  }
 },
 "nbformat": 4,
 "nbformat_minor": 5
}
